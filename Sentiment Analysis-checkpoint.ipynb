{
 "cells": [
  {
   "cell_type": "code",
   "execution_count": 1,
   "id": "abcc4922-dac6-492e-9c30-cdf8ad657886",
   "metadata": {},
   "outputs": [
    {
     "name": "stdout",
     "output_type": "stream",
     "text": [
      "Done\n"
     ]
    }
   ],
   "source": [
    "import re\n",
    "import matplotlib.pyplot as plt\n",
    "import string\n",
    "from nltk.corpus import stopwords\n",
    "import nltk\n",
    "from nltk.corpus import wordnet\n",
    "from nltk.stem import WordNetLemmatizer\n",
    "from nltk.tokenize.treebank import TreebankWordDetokenizer\n",
    "from collections import Counter\n",
    "from wordcloud import WordCloud\n",
    "from nltk.corpus import stopwords\n",
    "import nltk\n",
    "from gensim.utils import simple_preprocess\n",
    "from nltk.corpus import stopwords\n",
    "import gensim\n",
    "from sklearn.model_selection import train_test_split\n",
    "import spacy\n",
    "import pickle\n",
    "import warnings\n",
    "warnings.filterwarnings('ignore')\n",
    "import tensorflow.keras\n",
    "import seaborn as sns\n",
    "from sklearn.metrics import confusion_matrix\n",
    "import matplotlib.pyplot as plt \n",
    "import tensorflow as tf\n",
    "\n",
    "import numpy as np\n",
    "import pandas as pd\n",
    "print('Done')"
   ]
  },
  {
   "cell_type": "code",
   "execution_count": 2,
   "id": "4b598753-5bec-4948-94c6-f36a37576cf7",
   "metadata": {},
   "outputs": [
    {
     "name": "stderr",
     "output_type": "stream",
     "text": [
      "IOPub data rate exceeded.\n",
      "The Jupyter server will temporarily stop sending output\n",
      "to the client in order to avoid crashing it.\n",
      "To change this limit, set the config variable\n",
      "`--ServerApp.iopub_data_rate_limit`.\n",
      "\n",
      "Current values:\n",
      "ServerApp.iopub_data_rate_limit=1000000.0 (bytes/sec)\n",
      "ServerApp.rate_limit_window=3.0 (secs)\n",
      "\n"
     ]
    }
   ],
   "source": [
    "train = pd.read_json(r'C:\\Users\\user\\Desktop\\train.json')\n",
    "print(train.to_string()) "
   ]
  },
  {
   "cell_type": "code",
   "execution_count": 3,
   "id": "381feb56-b43e-437b-aac6-abf39a85e7ca",
   "metadata": {},
   "outputs": [
    {
     "data": {
      "text/html": [
       "<div>\n",
       "<style scoped>\n",
       "    .dataframe tbody tr th:only-of-type {\n",
       "        vertical-align: middle;\n",
       "    }\n",
       "\n",
       "    .dataframe tbody tr th {\n",
       "        vertical-align: top;\n",
       "    }\n",
       "\n",
       "    .dataframe thead th {\n",
       "        text-align: right;\n",
       "    }\n",
       "</style>\n",
       "<table border=\"1\" class=\"dataframe\">\n",
       "  <thead>\n",
       "    <tr style=\"text-align: right;\">\n",
       "      <th></th>\n",
       "      <th>reviews</th>\n",
       "      <th>sentiments</th>\n",
       "    </tr>\n",
       "  </thead>\n",
       "  <tbody>\n",
       "    <tr>\n",
       "      <th>0</th>\n",
       "      <td>I bought this belt for my daughter in-law for ...</td>\n",
       "      <td>1</td>\n",
       "    </tr>\n",
       "    <tr>\n",
       "      <th>1</th>\n",
       "      <td>The size was perfect and so was the color.  It...</td>\n",
       "      <td>1</td>\n",
       "    </tr>\n",
       "    <tr>\n",
       "      <th>2</th>\n",
       "      <td>Fits and feels good, esp. for doing a swim rac...</td>\n",
       "      <td>1</td>\n",
       "    </tr>\n",
       "    <tr>\n",
       "      <th>3</th>\n",
       "      <td>These socks are absolutely the best. I take pi...</td>\n",
       "      <td>1</td>\n",
       "    </tr>\n",
       "    <tr>\n",
       "      <th>4</th>\n",
       "      <td>Thank you so much for the speedy delivery they...</td>\n",
       "      <td>1</td>\n",
       "    </tr>\n",
       "    <tr>\n",
       "      <th>5</th>\n",
       "      <td>I bought this shoe in black and bronze.  I do ...</td>\n",
       "      <td>1</td>\n",
       "    </tr>\n",
       "    <tr>\n",
       "      <th>6</th>\n",
       "      <td>These shorts are great for all around use.  Th...</td>\n",
       "      <td>1</td>\n",
       "    </tr>\n",
       "    <tr>\n",
       "      <th>7</th>\n",
       "      <td>They look great. I just tried them on and they...</td>\n",
       "      <td>0</td>\n",
       "    </tr>\n",
       "    <tr>\n",
       "      <th>8</th>\n",
       "      <td>Very comfortable, but the straps keep coming l...</td>\n",
       "      <td>1</td>\n",
       "    </tr>\n",
       "    <tr>\n",
       "      <th>9</th>\n",
       "      <td>trans. was great. love the shirt!! I know it's...</td>\n",
       "      <td>1</td>\n",
       "    </tr>\n",
       "    <tr>\n",
       "      <th>10</th>\n",
       "      <td>These boots look so hot on!  I'm not one to we...</td>\n",
       "      <td>1</td>\n",
       "    </tr>\n",
       "  </tbody>\n",
       "</table>\n",
       "</div>"
      ],
      "text/plain": [
       "                                              reviews  sentiments\n",
       "0   I bought this belt for my daughter in-law for ...           1\n",
       "1   The size was perfect and so was the color.  It...           1\n",
       "2   Fits and feels good, esp. for doing a swim rac...           1\n",
       "3   These socks are absolutely the best. I take pi...           1\n",
       "4   Thank you so much for the speedy delivery they...           1\n",
       "5   I bought this shoe in black and bronze.  I do ...           1\n",
       "6   These shorts are great for all around use.  Th...           1\n",
       "7   They look great. I just tried them on and they...           0\n",
       "8   Very comfortable, but the straps keep coming l...           1\n",
       "9   trans. was great. love the shirt!! I know it's...           1\n",
       "10  These boots look so hot on!  I'm not one to we...           1"
      ]
     },
     "execution_count": 3,
     "metadata": {},
     "output_type": "execute_result"
    }
   ],
   "source": [
    "train.head(11)"
   ]
  },
  {
   "cell_type": "code",
   "execution_count": 4,
   "id": "5898f80a-9f0f-41db-8c57-73158b3a987d",
   "metadata": {},
   "outputs": [
    {
     "data": {
      "text/plain": [
       "7401"
      ]
     },
     "execution_count": 4,
     "metadata": {},
     "output_type": "execute_result"
    }
   ],
   "source": [
    "len(train)"
   ]
  },
  {
   "cell_type": "code",
   "execution_count": 5,
   "id": "24acda50-e71f-4b17-bd2a-fa13d57dba08",
   "metadata": {},
   "outputs": [
    {
     "data": {
      "text/plain": [
       "array([1, 0], dtype=int64)"
      ]
     },
     "execution_count": 5,
     "metadata": {},
     "output_type": "execute_result"
    }
   ],
   "source": [
    "train['sentiments'].unique()"
   ]
  },
  {
   "cell_type": "code",
   "execution_count": 6,
   "id": "37b67f26-be8d-41f1-b8ef-ba7f41513b3e",
   "metadata": {},
   "outputs": [
    {
     "data": {
      "text/html": [
       "<div>\n",
       "<style scoped>\n",
       "    .dataframe tbody tr th:only-of-type {\n",
       "        vertical-align: middle;\n",
       "    }\n",
       "\n",
       "    .dataframe tbody tr th {\n",
       "        vertical-align: top;\n",
       "    }\n",
       "\n",
       "    .dataframe thead th {\n",
       "        text-align: right;\n",
       "    }\n",
       "</style>\n",
       "<table border=\"1\" class=\"dataframe\">\n",
       "  <thead>\n",
       "    <tr style=\"text-align: right;\">\n",
       "      <th></th>\n",
       "      <th>reviews</th>\n",
       "    </tr>\n",
       "    <tr>\n",
       "      <th>sentiments</th>\n",
       "      <th></th>\n",
       "    </tr>\n",
       "  </thead>\n",
       "  <tbody>\n",
       "    <tr>\n",
       "      <th>0</th>\n",
       "      <td>1049</td>\n",
       "    </tr>\n",
       "    <tr>\n",
       "      <th>1</th>\n",
       "      <td>6136</td>\n",
       "    </tr>\n",
       "  </tbody>\n",
       "</table>\n",
       "</div>"
      ],
      "text/plain": [
       "            reviews\n",
       "sentiments         \n",
       "0              1049\n",
       "1              6136"
      ]
     },
     "execution_count": 6,
     "metadata": {},
     "output_type": "execute_result"
    }
   ],
   "source": [
    "train.groupby('sentiments').nunique()"
   ]
  },
  {
   "cell_type": "code",
   "execution_count": 7,
   "id": "089cc329-537d-4f47-a139-26f77c834958",
   "metadata": {},
   "outputs": [
    {
     "data": {
      "text/html": [
       "<div>\n",
       "<style scoped>\n",
       "    .dataframe tbody tr th:only-of-type {\n",
       "        vertical-align: middle;\n",
       "    }\n",
       "\n",
       "    .dataframe tbody tr th {\n",
       "        vertical-align: top;\n",
       "    }\n",
       "\n",
       "    .dataframe thead th {\n",
       "        text-align: right;\n",
       "    }\n",
       "</style>\n",
       "<table border=\"1\" class=\"dataframe\">\n",
       "  <thead>\n",
       "    <tr style=\"text-align: right;\">\n",
       "      <th></th>\n",
       "      <th>reviews</th>\n",
       "      <th>sentiments</th>\n",
       "    </tr>\n",
       "  </thead>\n",
       "  <tbody>\n",
       "    <tr>\n",
       "      <th>0</th>\n",
       "      <td>I bought this belt for my daughter in-law for ...</td>\n",
       "      <td>1</td>\n",
       "    </tr>\n",
       "    <tr>\n",
       "      <th>1</th>\n",
       "      <td>The size was perfect and so was the color.  It...</td>\n",
       "      <td>1</td>\n",
       "    </tr>\n",
       "    <tr>\n",
       "      <th>2</th>\n",
       "      <td>Fits and feels good, esp. for doing a swim rac...</td>\n",
       "      <td>1</td>\n",
       "    </tr>\n",
       "    <tr>\n",
       "      <th>3</th>\n",
       "      <td>These socks are absolutely the best. I take pi...</td>\n",
       "      <td>1</td>\n",
       "    </tr>\n",
       "    <tr>\n",
       "      <th>4</th>\n",
       "      <td>Thank you so much for the speedy delivery they...</td>\n",
       "      <td>1</td>\n",
       "    </tr>\n",
       "  </tbody>\n",
       "</table>\n",
       "</div>"
      ],
      "text/plain": [
       "                                             reviews  sentiments\n",
       "0  I bought this belt for my daughter in-law for ...           1\n",
       "1  The size was perfect and so was the color.  It...           1\n",
       "2  Fits and feels good, esp. for doing a swim rac...           1\n",
       "3  These socks are absolutely the best. I take pi...           1\n",
       "4  Thank you so much for the speedy delivery they...           1"
      ]
     },
     "execution_count": 7,
     "metadata": {},
     "output_type": "execute_result"
    }
   ],
   "source": [
    "train = train[['reviews','sentiments']]\n",
    "train.head()"
   ]
  },
  {
   "cell_type": "code",
   "execution_count": 8,
   "id": "98655899-1b5e-41fa-94bd-18cf8b2c33af",
   "metadata": {},
   "outputs": [
    {
     "data": {
      "text/plain": [
       "0"
      ]
     },
     "execution_count": 8,
     "metadata": {},
     "output_type": "execute_result"
    }
   ],
   "source": [
    "train[\"reviews\"].isnull().sum()"
   ]
  },
  {
   "cell_type": "code",
   "execution_count": 9,
   "id": "1e183de3-c70c-45f6-bea8-be64fa653c04",
   "metadata": {},
   "outputs": [],
   "source": [
    "def depure_data(data):\n",
    "    # Remove any symbols\n",
    "    data = re.sub('\\W+', ' ',data)\n",
    "   # Remove new line characters\n",
    "    data = re.sub('\\s+', ' ', data)\n",
    "\n",
    "    # Remove distracting single quotes\n",
    "    data = re.sub(\"\\'\", \"\", data)\n",
    "        \n",
    "    return data   \n"
   ]
  },
  {
   "cell_type": "code",
   "execution_count": 10,
   "id": "fa6cb54b-0e32-497f-a66f-d22d0a611dbe",
   "metadata": {},
   "outputs": [
    {
     "data": {
      "text/plain": [
       "['I bought this belt for my daughter in law for Christmas and she loved it',\n",
       " 'The size was perfect and so was the color It looked just like it did on the web page ',\n",
       " 'Fits and feels good esp for doing a swim race Highly recommend this Be careful when wearing board shorts with velcro zipper straps over this material The velcro from the board shorts tend to stick very easily to the material of this swim trunks Have to be careful when removing the velcro from any shorts or pants I had this happen and the velcro almost damaged the swim trunks when I was removing it ',\n",
       " 'These socks are absolutely the best I take pilates classes and if it is hot your feet can slip off the mat Not good in the middle of a side plank Anyway these socks keep your feet planted and dry One note make sure not to order them big the idea is that they should be snug',\n",
       " 'Thank you so much for the speedy delivery they came in time for the rehearsal dinner I loved the red silk neck ties and they really made all the ushers stand out They made very nice thank you gifts We were all pleased marjorie300']"
      ]
     },
     "execution_count": 10,
     "metadata": {},
     "output_type": "execute_result"
    }
   ],
   "source": [
    "temp = []\n",
    "#Splitting pd.Series to list\n",
    "data_to_list = train['reviews'].values.tolist()\n",
    "for i in range(len(data_to_list)):\n",
    "    temp.append(depure_data(data_to_list[i]))\n",
    "list(temp[:5])"
   ]
  },
  {
   "cell_type": "code",
   "execution_count": 11,
   "id": "91430bbd-04b3-4cdd-b662-bc5214fcc7ea",
   "metadata": {},
   "outputs": [
    {
     "name": "stdout",
     "output_type": "stream",
     "text": [
      "[['bought', 'this', 'belt', 'for', 'my', 'daughter', 'in', 'law', 'for', 'christmas', 'and', 'she', 'loved', 'it'], ['the', 'size', 'was', 'perfect', 'and', 'so', 'was', 'the', 'color', 'it', 'looked', 'just', 'like', 'it', 'did', 'on', 'the', 'web', 'page'], ['fits', 'and', 'feels', 'good', 'esp', 'for', 'doing', 'swim', 'race', 'highly', 'recommend', 'this', 'be', 'careful', 'when', 'wearing', 'board', 'shorts', 'with', 'velcro', 'zipper', 'straps', 'over', 'this', 'material', 'the', 'velcro', 'from', 'the', 'board', 'shorts', 'tend', 'to', 'stick', 'very', 'easily', 'to', 'the', 'material', 'of', 'this', 'swim', 'trunks', 'have', 'to', 'be', 'careful', 'when', 'removing', 'the', 'velcro', 'from', 'any', 'shorts', 'or', 'pants', 'had', 'this', 'happen', 'and', 'the', 'velcro', 'almost', 'damaged', 'the', 'swim', 'trunks', 'when', 'was', 'removing', 'it'], ['these', 'socks', 'are', 'absolutely', 'the', 'best', 'take', 'pilates', 'classes', 'and', 'if', 'it', 'is', 'hot', 'your', 'feet', 'can', 'slip', 'off', 'the', 'mat', 'not', 'good', 'in', 'the', 'middle', 'of', 'side', 'plank', 'anyway', 'these', 'socks', 'keep', 'your', 'feet', 'planted', 'and', 'dry', 'one', 'note', 'make', 'sure', 'not', 'to', 'order', 'them', 'big', 'the', 'idea', 'is', 'that', 'they', 'should', 'be', 'snug'], ['thank', 'you', 'so', 'much', 'for', 'the', 'speedy', 'delivery', 'they', 'came', 'in', 'time', 'for', 'the', 'rehearsal', 'dinner', 'loved', 'the', 'red', 'silk', 'neck', 'ties', 'and', 'they', 'really', 'made', 'all', 'the', 'ushers', 'stand', 'out', 'they', 'made', 'very', 'nice', 'thank', 'you', 'gifts', 'we', 'were', 'all', 'pleased', 'marjorie']]\n"
     ]
    }
   ],
   "source": [
    "def sent_to_words(sentences):\n",
    "\n",
    "    for sentence in sentences:\n",
    "        yield(gensim.utils.simple_preprocess(str(sentence), deacc=True))  # deacc=True removes punctuations\n",
    "        \n",
    "\n",
    "data_words = list(sent_to_words(temp))\n",
    "\n",
    "print(data_words[:5])"
   ]
  },
  {
   "cell_type": "code",
   "execution_count": 13,
   "id": "aa9d023c-20a0-4cb7-863c-765bbe65cf8a",
   "metadata": {},
   "outputs": [
    {
     "data": {
      "text/plain": [
       "7401"
      ]
     },
     "execution_count": 13,
     "metadata": {},
     "output_type": "execute_result"
    }
   ],
   "source": [
    "len(data_words)"
   ]
  },
  {
   "cell_type": "code",
   "execution_count": 14,
   "id": "d3e44202-03d0-48b3-8f2a-bdf02f6a41b1",
   "metadata": {},
   "outputs": [],
   "source": [
    "def detokenize(text):\n",
    "    return TreebankWordDetokenizer().detokenize(text)"
   ]
  },
  {
   "cell_type": "code",
   "execution_count": 15,
   "id": "1d17cd80-501e-4c8a-9c0e-0f0f8a3aac2c",
   "metadata": {},
   "outputs": [
    {
     "name": "stdout",
     "output_type": "stream",
     "text": [
      "['bought this belt for my daughter in law for christmas and she loved it', 'the size was perfect and so was the color it looked just like it did on the web page', 'fits and feels good esp for doing swim race highly recommend this be careful when wearing board shorts with velcro zipper straps over this material the velcro from the board shorts tend to stick very easily to the material of this swim trunks have to be careful when removing the velcro from any shorts or pants had this happen and the velcro almost damaged the swim trunks when was removing it', 'these socks are absolutely the best take pilates classes and if it is hot your feet can slip off the mat not good in the middle of side plank anyway these socks keep your feet planted and dry one note make sure not to order them big the idea is that they should be snug', 'thank you so much for the speedy delivery they came in time for the rehearsal dinner loved the red silk neck ties and they really made all the ushers stand out they made very nice thank you gifts we were all pleased marjorie']\n"
     ]
    }
   ],
   "source": [
    "data = []\n",
    "for i in range(len(data_words)):\n",
    "    data.append(detokenize(data_words[i]))\n",
    "print(data[:5])"
   ]
  },
  {
   "cell_type": "code",
   "execution_count": 17,
   "id": "77c449a3-cd19-4be6-adf8-ff27dbd48df5",
   "metadata": {},
   "outputs": [],
   "source": [
    "data = np.array(data)"
   ]
  },
  {
   "cell_type": "code",
   "execution_count": 18,
   "id": "49158a09-0afa-491a-b40e-3641fcda9704",
   "metadata": {},
   "outputs": [],
   "source": [
    "labels = np.array(train['sentiments'])\n",
    "y=[]\n",
    "y = np.array(y)\n",
    "labels = tf.keras.utils.to_categorical( labels, 2)\n",
    "del y"
   ]
  },
  {
   "cell_type": "code",
   "execution_count": 19,
   "id": "e1451b01-f538-43a1-a789-9d9d1bbb0e01",
   "metadata": {},
   "outputs": [
    {
     "data": {
      "text/plain": [
       "7401"
      ]
     },
     "execution_count": 19,
     "metadata": {},
     "output_type": "execute_result"
    }
   ],
   "source": [
    "len(labels)"
   ]
  },
  {
   "cell_type": "code",
   "execution_count": 20,
   "id": "d465df23-ab85-4f00-ac31-e614f8581fc0",
   "metadata": {},
   "outputs": [
    {
     "name": "stdout",
     "output_type": "stream",
     "text": [
      "[[   0    0    0 ...  114  267    4]\n",
      " [   0    0    0 ...    1 1267 1488]\n",
      " [   0    0    0 ...   17 2545    4]\n",
      " ...\n",
      " [   0    0    0 ...   23   87   13]\n",
      " [   0    0    0 ...  163 3207   98]\n",
      " [   0    0    0 ...   47    8   16]]\n"
     ]
    }
   ],
   "source": [
    "from tensorflow.keras.models import Sequential\n",
    "from tensorflow.keras import layers\n",
    "from tensorflow.keras.optimizers import RMSprop,Adam\n",
    "from tensorflow.keras.preprocessing.text import Tokenizer\n",
    "from tensorflow.keras.preprocessing.sequence import pad_sequences\n",
    "from tensorflow.keras import regularizers\n",
    "from tensorflow.keras import backend as K\n",
    "from tensorflow.keras.callbacks import ModelCheckpoint\n",
    "max_words = 5000\n",
    "max_len = 200\n",
    "\n",
    "tokenizer = Tokenizer(num_words=max_words)\n",
    "tokenizer.fit_on_texts(data)\n",
    "sequences = tokenizer.texts_to_sequences(data)\n",
    "sentences = pad_sequences(sequences, maxlen=max_len)\n",
    "print(sentences)"
   ]
  },
  {
   "cell_type": "code",
   "execution_count": 21,
   "id": "6c7ef02f-04b7-4172-8000-68f652b8b8f4",
   "metadata": {},
   "outputs": [
    {
     "name": "stdout",
     "output_type": "stream",
     "text": [
      "[[0. 1.]\n",
      " [0. 1.]\n",
      " [0. 1.]\n",
      " ...\n",
      " [0. 1.]\n",
      " [1. 0.]\n",
      " [0. 1.]]\n"
     ]
    }
   ],
   "source": [
    "print(labels)"
   ]
  },
  {
   "cell_type": "code",
   "execution_count": 159,
   "id": "b4b5324f-277d-479a-8ac0-35c849dc6c0e",
   "metadata": {},
   "outputs": [
    {
     "name": "stdout",
     "output_type": "stream",
     "text": [
      "7030 371 7030 371\n"
     ]
    }
   ],
   "source": [
    "#Splitting the data\n",
    "X_train, X_test, y_train, y_test = train_test_split(sentences,labels,test_size=0.05, random_state=1)\n",
    "print (len(X_train),len(X_test),len(y_train),len(y_test))\n"
   ]
  },
  {
   "cell_type": "code",
   "execution_count": 193,
   "id": "73aa3f46-a9a6-4e6f-bf62-14b7198386da",
   "metadata": {
    "tags": []
   },
   "outputs": [
    {
     "name": "stdout",
     "output_type": "stream",
     "text": [
      "WARNING:tensorflow:`period` argument is deprecated. Please use `save_freq` to specify the frequency in number of batches seen.\n",
      "Epoch 1/55\n",
      "220/220 [==============================] - 15s 56ms/step - loss: 0.5159 - accuracy: 0.8451 - val_loss: 0.3646 - val_accuracy: 0.8814\n",
      "\n",
      "Epoch 00001: val_accuracy improved from -inf to 0.88140, saving model to best_model2.hdf5\n",
      "Epoch 2/55\n",
      "220/220 [==============================] - 11s 52ms/step - loss: 0.4026 - accuracy: 0.8523 - val_loss: 0.3420 - val_accuracy: 0.8814\n",
      "\n",
      "Epoch 00002: val_accuracy did not improve from 0.88140\n",
      "Epoch 3/55\n",
      "220/220 [==============================] - 11s 49ms/step - loss: 0.3554 - accuracy: 0.8523 - val_loss: 0.2698 - val_accuracy: 0.8814\n",
      "\n",
      "Epoch 00003: val_accuracy did not improve from 0.88140\n",
      "Epoch 4/55\n",
      "220/220 [==============================] - 11s 48ms/step - loss: 0.2991 - accuracy: 0.8525 - val_loss: 0.2503 - val_accuracy: 0.8841\n",
      "\n",
      "Epoch 00004: val_accuracy improved from 0.88140 to 0.88410, saving model to best_model2.hdf5\n",
      "Epoch 5/55\n",
      "220/220 [==============================] - 11s 50ms/step - loss: 0.2604 - accuracy: 0.8721 - val_loss: 0.2061 - val_accuracy: 0.9137\n",
      "\n",
      "Epoch 00005: val_accuracy improved from 0.88410 to 0.91375, saving model to best_model2.hdf5\n",
      "Epoch 6/55\n",
      "220/220 [==============================] - 11s 49ms/step - loss: 0.2333 - accuracy: 0.9028 - val_loss: 0.1997 - val_accuracy: 0.9164\n",
      "\n",
      "Epoch 00006: val_accuracy improved from 0.91375 to 0.91644, saving model to best_model2.hdf5\n",
      "Epoch 7/55\n",
      "220/220 [==============================] - 11s 49ms/step - loss: 0.2166 - accuracy: 0.9185 - val_loss: 0.1917 - val_accuracy: 0.9137\n",
      "\n",
      "Epoch 00007: val_accuracy did not improve from 0.91644\n",
      "Epoch 8/55\n",
      "220/220 [==============================] - 11s 50ms/step - loss: 0.1964 - accuracy: 0.9302 - val_loss: 0.1903 - val_accuracy: 0.9218\n",
      "\n",
      "Epoch 00008: val_accuracy improved from 0.91644 to 0.92183, saving model to best_model2.hdf5\n",
      "Epoch 9/55\n",
      "220/220 [==============================] - 11s 48ms/step - loss: 0.1889 - accuracy: 0.9316 - val_loss: 0.1874 - val_accuracy: 0.9272\n",
      "\n",
      "Epoch 00009: val_accuracy improved from 0.92183 to 0.92722, saving model to best_model2.hdf5\n",
      "Epoch 10/55\n",
      "220/220 [==============================] - 11s 49ms/step - loss: 0.1762 - accuracy: 0.9319 - val_loss: 0.1791 - val_accuracy: 0.9299\n",
      "\n",
      "Epoch 00010: val_accuracy improved from 0.92722 to 0.92992, saving model to best_model2.hdf5\n",
      "Epoch 11/55\n",
      "220/220 [==============================] - 11s 48ms/step - loss: 0.1620 - accuracy: 0.9403 - val_loss: 0.1816 - val_accuracy: 0.9299\n",
      "\n",
      "Epoch 00011: val_accuracy did not improve from 0.92992\n",
      "Epoch 12/55\n",
      "220/220 [==============================] - 11s 48ms/step - loss: 0.1580 - accuracy: 0.9415 - val_loss: 0.1860 - val_accuracy: 0.9272\n",
      "\n",
      "Epoch 00012: val_accuracy did not improve from 0.92992\n",
      "Epoch 13/55\n",
      "220/220 [==============================] - 11s 50ms/step - loss: 0.1471 - accuracy: 0.9444 - val_loss: 0.1836 - val_accuracy: 0.9299\n",
      "\n",
      "Epoch 00013: val_accuracy did not improve from 0.92992\n",
      "Epoch 14/55\n",
      "220/220 [==============================] - 11s 48ms/step - loss: 0.1403 - accuracy: 0.9484 - val_loss: 0.1951 - val_accuracy: 0.9326\n",
      "\n",
      "Epoch 00014: val_accuracy improved from 0.92992 to 0.93261, saving model to best_model2.hdf5\n",
      "Epoch 15/55\n",
      "220/220 [==============================] - 10s 47ms/step - loss: 0.1320 - accuracy: 0.9535 - val_loss: 0.1977 - val_accuracy: 0.9326\n",
      "\n",
      "Epoch 00015: val_accuracy did not improve from 0.93261\n",
      "Epoch 16/55\n",
      "220/220 [==============================] - 11s 48ms/step - loss: 0.1239 - accuracy: 0.9570 - val_loss: 0.1966 - val_accuracy: 0.9353\n",
      "\n",
      "Epoch 00016: val_accuracy improved from 0.93261 to 0.93531, saving model to best_model2.hdf5\n",
      "Epoch 17/55\n",
      "220/220 [==============================] - 11s 49ms/step - loss: 0.1235 - accuracy: 0.9550 - val_loss: 0.1984 - val_accuracy: 0.9326\n",
      "\n",
      "Epoch 00017: val_accuracy did not improve from 0.93531\n",
      "Epoch 18/55\n",
      "220/220 [==============================] - 11s 48ms/step - loss: 0.1156 - accuracy: 0.9585 - val_loss: 0.1857 - val_accuracy: 0.9299\n",
      "\n",
      "Epoch 00018: val_accuracy did not improve from 0.93531\n",
      "Epoch 19/55\n",
      "220/220 [==============================] - 11s 48ms/step - loss: 0.1120 - accuracy: 0.9612 - val_loss: 0.2031 - val_accuracy: 0.9299\n",
      "\n",
      "Epoch 00019: val_accuracy did not improve from 0.93531\n",
      "Epoch 20/55\n",
      "220/220 [==============================] - 11s 48ms/step - loss: 0.1067 - accuracy: 0.9640 - val_loss: 0.2317 - val_accuracy: 0.9272\n",
      "\n",
      "Epoch 00020: val_accuracy did not improve from 0.93531\n",
      "Epoch 21/55\n",
      "220/220 [==============================] - 11s 48ms/step - loss: 0.1019 - accuracy: 0.9643 - val_loss: 0.2046 - val_accuracy: 0.9299\n",
      "\n",
      "Epoch 00021: val_accuracy did not improve from 0.93531\n",
      "Epoch 22/55\n",
      "220/220 [==============================] - 11s 49ms/step - loss: 0.1026 - accuracy: 0.9622 - val_loss: 0.2149 - val_accuracy: 0.9272\n",
      "\n",
      "Epoch 00022: val_accuracy did not improve from 0.93531\n",
      "Epoch 23/55\n",
      "220/220 [==============================] - 10s 47ms/step - loss: 0.0996 - accuracy: 0.9657 - val_loss: 0.2045 - val_accuracy: 0.9326\n",
      "\n",
      "Epoch 00023: val_accuracy did not improve from 0.93531\n",
      "Epoch 24/55\n",
      "220/220 [==============================] - 11s 48ms/step - loss: 0.0947 - accuracy: 0.9661 - val_loss: 0.2479 - val_accuracy: 0.9299\n",
      "\n",
      "Epoch 00024: val_accuracy did not improve from 0.93531\n",
      "Epoch 25/55\n",
      "220/220 [==============================] - 11s 48ms/step - loss: 0.0910 - accuracy: 0.9690 - val_loss: 0.2138 - val_accuracy: 0.9326\n",
      "\n",
      "Epoch 00025: val_accuracy did not improve from 0.93531\n",
      "Epoch 26/55\n",
      "220/220 [==============================] - 11s 49ms/step - loss: 0.0870 - accuracy: 0.9701 - val_loss: 0.2076 - val_accuracy: 0.9299\n",
      "\n",
      "Epoch 00026: val_accuracy did not improve from 0.93531\n",
      "Epoch 27/55\n",
      "220/220 [==============================] - 11s 49ms/step - loss: 0.0953 - accuracy: 0.9663 - val_loss: 0.2102 - val_accuracy: 0.9353\n",
      "\n",
      "Epoch 00027: val_accuracy did not improve from 0.93531\n",
      "Epoch 28/55\n",
      "220/220 [==============================] - 11s 51ms/step - loss: 0.0862 - accuracy: 0.9697 - val_loss: 0.2222 - val_accuracy: 0.9299\n",
      "\n",
      "Epoch 00028: val_accuracy did not improve from 0.93531\n",
      "Epoch 29/55\n",
      "220/220 [==============================] - 11s 50ms/step - loss: 0.0798 - accuracy: 0.9737 - val_loss: 0.2166 - val_accuracy: 0.9353\n",
      "\n",
      "Epoch 00029: val_accuracy did not improve from 0.93531\n",
      "Epoch 30/55\n",
      "220/220 [==============================] - 11s 49ms/step - loss: 0.0826 - accuracy: 0.9694 - val_loss: 0.2325 - val_accuracy: 0.9326\n",
      "\n",
      "Epoch 00030: val_accuracy did not improve from 0.93531\n",
      "Epoch 31/55\n",
      "220/220 [==============================] - 11s 49ms/step - loss: 0.0782 - accuracy: 0.9740 - val_loss: 0.2121 - val_accuracy: 0.9353\n",
      "\n",
      "Epoch 00031: val_accuracy did not improve from 0.93531\n",
      "Epoch 32/55\n",
      "220/220 [==============================] - 11s 49ms/step - loss: 0.0780 - accuracy: 0.9725 - val_loss: 0.2215 - val_accuracy: 0.9272\n",
      "\n",
      "Epoch 00032: val_accuracy did not improve from 0.93531\n",
      "Epoch 33/55\n",
      "220/220 [==============================] - 11s 49ms/step - loss: 0.0724 - accuracy: 0.9767 - val_loss: 0.2276 - val_accuracy: 0.9272\n",
      "\n",
      "Epoch 00033: val_accuracy did not improve from 0.93531\n",
      "Epoch 34/55\n",
      "220/220 [==============================] - 11s 48ms/step - loss: 0.0780 - accuracy: 0.9751 - val_loss: 0.2263 - val_accuracy: 0.9299\n",
      "\n",
      "Epoch 00034: val_accuracy did not improve from 0.93531\n",
      "Epoch 35/55\n",
      "220/220 [==============================] - 11s 48ms/step - loss: 0.0696 - accuracy: 0.9772 - val_loss: 0.2256 - val_accuracy: 0.9272\n",
      "\n",
      "Epoch 00035: val_accuracy did not improve from 0.93531\n",
      "Epoch 36/55\n",
      "220/220 [==============================] - 10s 47ms/step - loss: 0.0711 - accuracy: 0.9754 - val_loss: 0.2348 - val_accuracy: 0.9326\n",
      "\n",
      "Epoch 00036: val_accuracy did not improve from 0.93531\n",
      "Epoch 37/55\n",
      "220/220 [==============================] - 11s 48ms/step - loss: 0.0724 - accuracy: 0.9750 - val_loss: 0.2080 - val_accuracy: 0.9380\n",
      "\n",
      "Epoch 00037: val_accuracy improved from 0.93531 to 0.93801, saving model to best_model2.hdf5\n",
      "Epoch 38/55\n",
      "220/220 [==============================] - 11s 49ms/step - loss: 0.0715 - accuracy: 0.9755 - val_loss: 0.2282 - val_accuracy: 0.9380\n",
      "\n",
      "Epoch 00038: val_accuracy did not improve from 0.93801\n",
      "Epoch 39/55\n",
      "220/220 [==============================] - 11s 49ms/step - loss: 0.0699 - accuracy: 0.9767 - val_loss: 0.2264 - val_accuracy: 0.9380\n",
      "\n",
      "Epoch 00039: val_accuracy did not improve from 0.93801\n",
      "Epoch 40/55\n",
      "220/220 [==============================] - 11s 50ms/step - loss: 0.0657 - accuracy: 0.9784 - val_loss: 0.2442 - val_accuracy: 0.9326\n",
      "\n",
      "Epoch 00040: val_accuracy did not improve from 0.93801\n",
      "Epoch 41/55\n",
      "220/220 [==============================] - 11s 50ms/step - loss: 0.0676 - accuracy: 0.9784 - val_loss: 0.2469 - val_accuracy: 0.9326\n",
      "\n",
      "Epoch 00041: val_accuracy did not improve from 0.93801\n",
      "Epoch 42/55\n",
      "220/220 [==============================] - 11s 50ms/step - loss: 0.0575 - accuracy: 0.9812 - val_loss: 0.2644 - val_accuracy: 0.9353\n",
      "\n",
      "Epoch 00042: val_accuracy did not improve from 0.93801\n",
      "Epoch 43/55\n",
      "220/220 [==============================] - 11s 50ms/step - loss: 0.0650 - accuracy: 0.9777 - val_loss: 0.2717 - val_accuracy: 0.9326\n",
      "\n",
      "Epoch 00043: val_accuracy did not improve from 0.93801\n",
      "Epoch 44/55\n",
      "220/220 [==============================] - 11s 50ms/step - loss: 0.0585 - accuracy: 0.9799 - val_loss: 0.2526 - val_accuracy: 0.9326\n",
      "\n",
      "Epoch 00044: val_accuracy did not improve from 0.93801\n",
      "Epoch 45/55\n",
      "220/220 [==============================] - 11s 49ms/step - loss: 0.0562 - accuracy: 0.9814 - val_loss: 0.2611 - val_accuracy: 0.9326\n",
      "\n",
      "Epoch 00045: val_accuracy did not improve from 0.93801\n",
      "Epoch 46/55\n",
      "220/220 [==============================] - 11s 48ms/step - loss: 0.0543 - accuracy: 0.9821 - val_loss: 0.2545 - val_accuracy: 0.9353\n",
      "\n",
      "Epoch 00046: val_accuracy did not improve from 0.93801\n",
      "Epoch 47/55\n",
      "220/220 [==============================] - 11s 48ms/step - loss: 0.0625 - accuracy: 0.9777 - val_loss: 0.2785 - val_accuracy: 0.9353\n",
      "\n",
      "Epoch 00047: val_accuracy did not improve from 0.93801\n",
      "Epoch 48/55\n",
      "220/220 [==============================] - 11s 48ms/step - loss: 0.0617 - accuracy: 0.9797 - val_loss: 0.2437 - val_accuracy: 0.9353\n",
      "\n",
      "Epoch 00048: val_accuracy did not improve from 0.93801\n",
      "Epoch 49/55\n",
      "220/220 [==============================] - 11s 48ms/step - loss: 0.0567 - accuracy: 0.9815 - val_loss: 0.2562 - val_accuracy: 0.9326\n",
      "\n",
      "Epoch 00049: val_accuracy did not improve from 0.93801\n",
      "Epoch 50/55\n",
      "220/220 [==============================] - 11s 48ms/step - loss: 0.0584 - accuracy: 0.9802 - val_loss: 0.2780 - val_accuracy: 0.9326\n",
      "\n",
      "Epoch 00050: val_accuracy did not improve from 0.93801\n",
      "Epoch 51/55\n",
      "220/220 [==============================] - 11s 48ms/step - loss: 0.0596 - accuracy: 0.9795 - val_loss: 0.2566 - val_accuracy: 0.9353\n",
      "\n",
      "Epoch 00051: val_accuracy did not improve from 0.93801\n",
      "Epoch 52/55\n",
      "220/220 [==============================] - 11s 49ms/step - loss: 0.0578 - accuracy: 0.9808 - val_loss: 0.2529 - val_accuracy: 0.9326\n",
      "\n",
      "Epoch 00052: val_accuracy did not improve from 0.93801\n",
      "Epoch 53/55\n",
      "220/220 [==============================] - 11s 50ms/step - loss: 0.0508 - accuracy: 0.9841 - val_loss: 0.2578 - val_accuracy: 0.9353\n",
      "\n",
      "Epoch 00053: val_accuracy did not improve from 0.93801\n",
      "Epoch 54/55\n",
      "220/220 [==============================] - 11s 50ms/step - loss: 0.0521 - accuracy: 0.9824 - val_loss: 0.2536 - val_accuracy: 0.9380\n",
      "\n",
      "Epoch 00054: val_accuracy did not improve from 0.93801\n",
      "Epoch 55/55\n",
      "220/220 [==============================] - 11s 51ms/step - loss: 0.0507 - accuracy: 0.9831 - val_loss: 0.2619 - val_accuracy: 0.9353\n",
      "\n",
      "Epoch 00055: val_accuracy did not improve from 0.93801\n"
     ]
    }
   ],
   "source": [
    "opt = tensorflow.keras.optimizers.Adam(learning_rate=0.0004)\n",
    "model2 = Sequential()\n",
    "model2.add(layers.Embedding(max_words, 20, input_length=max_len))\n",
    "model2.add(layers.Bidirectional(layers.LSTM(10,dropout=0.9)))\n",
    "model2.add(layers.Dense(2,activation='sigmoid'))\n",
    "model2.compile(optimizer=opt,loss='binary_crossentropy', metrics=['accuracy'])\n",
    "#Implementing model checkpoins to save the best metric and do not lose it on training.\n",
    "checkpoint2 = ModelCheckpoint(\"best_model2.hdf5\", monitor='val_accuracy', verbose=1,save_best_only=True, mode='auto', period=1,save_weights_only=False)\n",
    "history = model2.fit(X_train, y_train, epochs=55,validation_data=(X_test, y_test),callbacks=[checkpoint2])"
   ]
  },
  {
   "cell_type": "code",
   "execution_count": 223,
   "id": "1e4ec9e0-cf2a-4dc6-813f-697807c2f86e",
   "metadata": {
    "tags": []
   },
   "outputs": [
    {
     "data": {
      "image/png": "[encoded data removed]",
      "text/plain": [
       "<Figure size 720x432 with 1 Axes>"
      ]
     },
     "metadata": {
      "needs_background": "light"
     },
     "output_type": "display_data"
    },
    {
     "data": {
      "image/png": "[encoded data removed]",
      "text/plain": [
       "<Figure size 720x432 with 1 Axes>"
      ]
     },
     "metadata": {
      "needs_background": "light"
     },
     "output_type": "display_data"
    }
   ],
   "source": [
    "# Plot the loss function\n",
    "fig, ax = plt.subplots(1, 1, figsize=(10,6))\n",
    "ax.plot(np.sqrt(history.history['loss']), 'r', label='train')\n",
    "ax.plot(np.sqrt(history.history['val_loss']), 'b' ,label='val')\n",
    "ax.set_xlabel(r'Epoch', fontsize=20)\n",
    "ax.set_ylabel(r'Loss', fontsize=20)\n",
    "ax.legend()\n",
    "ax.tick_params(labelsize=20)\n",
    "\n",
    "# Plot the accuracy\n",
    "fig, ax = plt.subplots(1, 1, figsize=(10,6))\n",
    "ax.plot(np.sqrt(history.history['accuracy']), 'r', label='train')\n",
    "ax.plot(np.sqrt(history.history['val_accuracy']), 'b' ,label='val')\n",
    "ax.set_xlabel(r'Epoch', fontsize=20)\n",
    "ax.set_ylabel(r'Accuracy', fontsize=20)\n",
    "ax.legend()\n",
    "ax.tick_params(labelsize=20)"
   ]
  },
  {
   "cell_type": "code",
   "execution_count": 218,
   "id": "e2e930f0-f21d-4f9b-890b-612e9f65eb42",
   "metadata": {},
   "outputs": [],
   "source": [
    "best_model = tensorflow.keras.models.load_model(\"best_model2.hdf5\")"
   ]
  },
  {
   "cell_type": "code",
   "execution_count": 219,
   "id": "42f7522d-4503-4788-94a2-1a48a4e41a43",
   "metadata": {},
   "outputs": [
    {
     "name": "stdout",
     "output_type": "stream",
     "text": [
      "12/12 - 1s - loss: 0.2080 - accuracy: 0.9380\n",
      "Model accuracy:  0.9380053877830505\n"
     ]
    }
   ],
   "source": [
    "test_loss, test_acc = best_model.evaluate(X_test, y_test, verbose=2)\n",
    "print('Model accuracy: ',test_acc)"
   ]
  },
  {
   "cell_type": "code",
   "execution_count": 220,
   "id": "fd13139a-bb0c-46c1-8118-2a26583f2b11",
   "metadata": {},
   "outputs": [],
   "source": [
    "predictions = best_model.predict(X_test)"
   ]
  },
  {
   "cell_type": "code",
   "execution_count": 221,
   "id": "5cdf0f28-fd91-4560-aea0-cb45f565ecdf",
   "metadata": {},
   "outputs": [],
   "source": [
    "from sklearn.metrics import confusion_matrix\n",
    "matrix = confusion_matrix(y_test.argmax(axis=1), np.around(predictions, decimals=0).argmax(axis=1))"
   ]
  },
  {
   "cell_type": "code",
   "execution_count": 222,
   "id": "a99f3fc6-89a0-4f62-bb92-b308b025a466",
   "metadata": {},
   "outputs": [
    {
     "data": {
      "text/plain": [
       "<AxesSubplot:>"
      ]
     },
     "execution_count": 222,
     "metadata": {},
     "output_type": "execute_result"
    },
    {
     "data": {
      "image/png": "[encoded data removed]",
      "text/plain": [
       "<Figure size 1080x1080 with 2 Axes>"
      ]
     },
     "metadata": {
      "needs_background": "light"
     },
     "output_type": "display_data"
    }
   ],
   "source": [
    "import seaborn as sns\n",
    "conf_matrix = pd.DataFrame(matrix, index = ['0','1'],columns = ['0','1'])\n",
    "#Normalizing\n",
    "conf_matrix = conf_matrix.astype('float') / conf_matrix.sum(axis=1)[:, np.newaxis]\n",
    "plt.figure(figsize = (15,15))\n",
    "sns.heatmap(conf_matrix, annot=True, annot_kws={\"size\": 15})"
   ]
  },
  {
   "cell_type": "code",
   "execution_count": 200,
   "id": "da53261d-528d-47f4-a8f3-088f132ca4d2",
   "metadata": {},
   "outputs": [
    {
     "data": {
      "text/html": [
       "<div>\n",
       "<style scoped>\n",
       "    .dataframe tbody tr th:only-of-type {\n",
       "        vertical-align: middle;\n",
       "    }\n",
       "\n",
       "    .dataframe tbody tr th {\n",
       "        vertical-align: top;\n",
       "    }\n",
       "\n",
       "    .dataframe thead th {\n",
       "        text-align: right;\n",
       "    }\n",
       "</style>\n",
       "<table border=\"1\" class=\"dataframe\">\n",
       "  <thead>\n",
       "    <tr style=\"text-align: right;\">\n",
       "      <th></th>\n",
       "      <th>reviews</th>\n",
       "    </tr>\n",
       "  </thead>\n",
       "  <tbody>\n",
       "    <tr>\n",
       "      <th>0</th>\n",
       "      <td>I bought 2 sleepers.  sleeper had holes in the...</td>\n",
       "    </tr>\n",
       "    <tr>\n",
       "      <th>1</th>\n",
       "      <td>I dare say these are just about the sexiest th...</td>\n",
       "    </tr>\n",
       "    <tr>\n",
       "      <th>2</th>\n",
       "      <td>everything about the transaction (price, deliv...</td>\n",
       "    </tr>\n",
       "    <tr>\n",
       "      <th>3</th>\n",
       "      <td>Not bad for just a shirt.  Very durable, and m...</td>\n",
       "    </tr>\n",
       "    <tr>\n",
       "      <th>4</th>\n",
       "      <td>These are truly wrinkle free and longer than t...</td>\n",
       "    </tr>\n",
       "    <tr>\n",
       "      <th>5</th>\n",
       "      <td>I love naughty monkey! I'm so happy with their...</td>\n",
       "    </tr>\n",
       "    <tr>\n",
       "      <th>6</th>\n",
       "      <td>I fell in love with this boot when I first saw...</td>\n",
       "    </tr>\n",
       "    <tr>\n",
       "      <th>7</th>\n",
       "      <td>These shades are a great buy.  Fast shipping, ...</td>\n",
       "    </tr>\n",
       "    <tr>\n",
       "      <th>8</th>\n",
       "      <td>There was no picture of this selection, so I g...</td>\n",
       "    </tr>\n",
       "    <tr>\n",
       "      <th>9</th>\n",
       "      <td>This leather briefcase was exactly what I was ...</td>\n",
       "    </tr>\n",
       "  </tbody>\n",
       "</table>\n",
       "</div>"
      ],
      "text/plain": [
       "                                             reviews\n",
       "0  I bought 2 sleepers.  sleeper had holes in the...\n",
       "1  I dare say these are just about the sexiest th...\n",
       "2  everything about the transaction (price, deliv...\n",
       "3  Not bad for just a shirt.  Very durable, and m...\n",
       "4  These are truly wrinkle free and longer than t...\n",
       "5  I love naughty monkey! I'm so happy with their...\n",
       "6  I fell in love with this boot when I first saw...\n",
       "7  These shades are a great buy.  Fast shipping, ...\n",
       "8  There was no picture of this selection, so I g...\n",
       "9  This leather briefcase was exactly what I was ..."
      ]
     },
     "execution_count": 200,
     "metadata": {},
     "output_type": "execute_result"
    }
   ],
   "source": [
    "test_data = pd.read_json(r'C:\\Users\\user\\Desktop\\test.json')\n",
    "test_data.head(10)"
   ]
  },
  {
   "cell_type": "code",
   "execution_count": 201,
   "id": "4ccfd710-f30e-40f0-ad74-d63ed0d17086",
   "metadata": {},
   "outputs": [],
   "source": [
    "def depure_data(data):\n",
    "    # Remove any symbols\n",
    "    data = re.sub('\\W+', ' ',data)\n",
    "   # Remove new line characters\n",
    "    data = re.sub('\\s+', ' ', data)\n",
    "\n",
    "    # Remove distracting single quotes\n",
    "    data = re.sub(\"\\'\", \"\", data)\n",
    "        \n",
    "    return data   \n"
   ]
  },
  {
   "cell_type": "code",
   "execution_count": 202,
   "id": "3dee6f66-b13c-40b8-a72d-a9c0cb7d324d",
   "metadata": {},
   "outputs": [
    {
     "data": {
      "text/plain": [
       "['I bought this belt for my daughter in law for Christmas and she loved it',\n",
       " 'The size was perfect and so was the color It looked just like it did on the web page ',\n",
       " 'Fits and feels good esp for doing a swim race Highly recommend this Be careful when wearing board shorts with velcro zipper straps over this material The velcro from the board shorts tend to stick very easily to the material of this swim trunks Have to be careful when removing the velcro from any shorts or pants I had this happen and the velcro almost damaged the swim trunks when I was removing it ',\n",
       " 'These socks are absolutely the best I take pilates classes and if it is hot your feet can slip off the mat Not good in the middle of a side plank Anyway these socks keep your feet planted and dry One note make sure not to order them big the idea is that they should be snug',\n",
       " 'Thank you so much for the speedy delivery they came in time for the rehearsal dinner I loved the red silk neck ties and they really made all the ushers stand out They made very nice thank you gifts We were all pleased marjorie300']"
      ]
     },
     "execution_count": 202,
     "metadata": {},
     "output_type": "execute_result"
    }
   ],
   "source": [
    "temp = []\n",
    "#Splitting pd.Series to list\n",
    "data_to_list = train['reviews'].values.tolist()\n",
    "for i in range(len(data_to_list)):\n",
    "    temp.append(depure_data(data_to_list[i]))\n",
    "list(temp[:5])"
   ]
  },
  {
   "cell_type": "code",
   "execution_count": 203,
   "id": "8278ec2c-564e-453e-a3de-3ba0e315668a",
   "metadata": {},
   "outputs": [
    {
     "name": "stdout",
     "output_type": "stream",
     "text": [
      "[['bought', 'this', 'belt', 'for', 'my', 'daughter', 'in', 'law', 'for', 'christmas', 'and', 'she', 'loved', 'it'], ['the', 'size', 'was', 'perfect', 'and', 'so', 'was', 'the', 'color', 'it', 'looked', 'just', 'like', 'it', 'did', 'on', 'the', 'web', 'page'], ['fits', 'and', 'feels', 'good', 'esp', 'for', 'doing', 'swim', 'race', 'highly', 'recommend', 'this', 'be', 'careful', 'when', 'wearing', 'board', 'shorts', 'with', 'velcro', 'zipper', 'straps', 'over', 'this', 'material', 'the', 'velcro', 'from', 'the', 'board', 'shorts', 'tend', 'to', 'stick', 'very', 'easily', 'to', 'the', 'material', 'of', 'this', 'swim', 'trunks', 'have', 'to', 'be', 'careful', 'when', 'removing', 'the', 'velcro', 'from', 'any', 'shorts', 'or', 'pants', 'had', 'this', 'happen', 'and', 'the', 'velcro', 'almost', 'damaged', 'the', 'swim', 'trunks', 'when', 'was', 'removing', 'it'], ['these', 'socks', 'are', 'absolutely', 'the', 'best', 'take', 'pilates', 'classes', 'and', 'if', 'it', 'is', 'hot', 'your', 'feet', 'can', 'slip', 'off', 'the', 'mat', 'not', 'good', 'in', 'the', 'middle', 'of', 'side', 'plank', 'anyway', 'these', 'socks', 'keep', 'your', 'feet', 'planted', 'and', 'dry', 'one', 'note', 'make', 'sure', 'not', 'to', 'order', 'them', 'big', 'the', 'idea', 'is', 'that', 'they', 'should', 'be', 'snug'], ['thank', 'you', 'so', 'much', 'for', 'the', 'speedy', 'delivery', 'they', 'came', 'in', 'time', 'for', 'the', 'rehearsal', 'dinner', 'loved', 'the', 'red', 'silk', 'neck', 'ties', 'and', 'they', 'really', 'made', 'all', 'the', 'ushers', 'stand', 'out', 'they', 'made', 'very', 'nice', 'thank', 'you', 'gifts', 'we', 'were', 'all', 'pleased', 'marjorie']]\n"
     ]
    }
   ],
   "source": [
    "def sent_to_words(sentences):\n",
    "\n",
    "    for sentence in sentences:\n",
    "        yield(gensim.utils.simple_preprocess(str(sentence), deacc=True))  # deacc=True removes punctuations\n",
    "        \n",
    "\n",
    "data_words = list(sent_to_words(temp))\n",
    "\n",
    "print(data_words[:5])"
   ]
  },
  {
   "cell_type": "code",
   "execution_count": 204,
   "id": "9272b870-6d37-403d-a5d4-b96ddbdcc8cc",
   "metadata": {},
   "outputs": [],
   "source": [
    "def detokenize(text):\n",
    "    return TreebankWordDetokenizer().detokenize(text)"
   ]
  },
  {
   "cell_type": "code",
   "execution_count": 205,
   "id": "6fb8cf41-862b-4c5c-a2ba-f4c8169de80e",
   "metadata": {},
   "outputs": [
    {
     "name": "stdout",
     "output_type": "stream",
     "text": [
      "['bought this belt for my daughter in law for christmas and she loved it', 'the size was perfect and so was the color it looked just like it did on the web page', 'fits and feels good esp for doing swim race highly recommend this be careful when wearing board shorts with velcro zipper straps over this material the velcro from the board shorts tend to stick very easily to the material of this swim trunks have to be careful when removing the velcro from any shorts or pants had this happen and the velcro almost damaged the swim trunks when was removing it', 'these socks are absolutely the best take pilates classes and if it is hot your feet can slip off the mat not good in the middle of side plank anyway these socks keep your feet planted and dry one note make sure not to order them big the idea is that they should be snug', 'thank you so much for the speedy delivery they came in time for the rehearsal dinner loved the red silk neck ties and they really made all the ushers stand out they made very nice thank you gifts we were all pleased marjorie']\n"
     ]
    }
   ],
   "source": [
    "data = []\n",
    "for i in range(len(data_words)):\n",
    "    data.append(detokenize(data_words[i]))\n",
    "print(data[:5])"
   ]
  },
  {
   "cell_type": "code",
   "execution_count": 206,
   "id": "934e0da8-fb8e-44a5-87e4-b0455eab6012",
   "metadata": {},
   "outputs": [
    {
     "name": "stdout",
     "output_type": "stream",
     "text": [
      "[[   0    0    0 ...  114  267    4]\n",
      " [   0    0    0 ...    1 1267 1488]\n",
      " [   0    0    0 ...   17 2545    4]\n",
      " ...\n",
      " [   0    0    0 ...   23   87   13]\n",
      " [   0    0    0 ...  163 3207   98]\n",
      " [   0    0    0 ...   47    8   16]]\n"
     ]
    },
    {
     "data": {
      "text/plain": [
       "7401"
      ]
     },
     "execution_count": 206,
     "metadata": {},
     "output_type": "execute_result"
    }
   ],
   "source": [
    "tokenizer = Tokenizer(num_words=max_words)\n",
    "tokenizer.fit_on_texts(data)\n",
    "sequences1 = tokenizer.texts_to_sequences(data)\n",
    "sentences1 = pad_sequences(sequences, maxlen=max_len)\n",
    "print(sentences1)\n",
    "len(sentences1)"
   ]
  },
  {
   "cell_type": "code",
   "execution_count": 228,
   "id": "f60df111-70a1-4d50-bd79-a0c0986aa101",
   "metadata": {},
   "outputs": [
    {
     "name": "stdout",
     "output_type": "stream",
     "text": [
      "[1 1 1 ... 1 0 1]\n"
     ]
    }
   ],
   "source": [
    "test_predict=np.around(best_model.predict(sentences1),decimals=0).argmax(axis=1)\n",
    "print(test_predict)"
   ]
  },
  {
   "cell_type": "code",
   "execution_count": 233,
   "id": "4e380912-a385-44c5-ab79-05800cf7d251",
   "metadata": {},
   "outputs": [],
   "source": [
    "np.savetxt(\"submission2.csv\", test_predict,fmt='% 4d', delimiter=\",\")"
   ]
  },
  {
   "cell_type": "code",
   "execution_count": null,
   "id": "6b2acac3-ff9f-401a-9f8c-ec495f8c22b6",
   "metadata": {},
   "outputs": [],
   "source": []
  }
 ],
 "metadata": {
  "kernelspec": {
   "display_name": "Python 3 (ipykernel)",
   "language": "python",
   "name": "python3"
  },
  "language_info": {
   "codemirror_mode": {
    "name": "ipython",
    "version": 3
   },
   "file_extension": ".py",
   "mimetype": "text/x-python",
   "name": "python",
   "nbconvert_exporter": "python",
   "pygments_lexer": "ipython3",
   "version": "3.9.7"
  }
 },
 "nbformat": 4,
 "nbformat_minor": 5
}
